{
  "nbformat": 4,
  "nbformat_minor": 0,
  "metadata": {
    "colab": {
      "name": "bitcoin.ipynb",
      "provenance": [],
      "authorship_tag": "ABX9TyMaOASaoMuZFTnqsFkCMh+T",
      "include_colab_link": true
    },
    "kernelspec": {
      "name": "python3",
      "display_name": "Python 3"
    },
    "language_info": {
      "name": "python"
    }
  },
  "cells": [
    {
      "cell_type": "markdown",
      "metadata": {
        "id": "view-in-github",
        "colab_type": "text"
      },
      "source": [
        "<a href=\"https://colab.research.google.com/github/Gopisree/day-1/blob/main/bitcoin.ipynb\" target=\"_parent\"><img src=\"https://colab.research.google.com/assets/colab-badge.svg\" alt=\"Open In Colab\"/></a>"
      ]
    },
    {
      "cell_type": "code",
      "execution_count": 3,
      "metadata": {
        "colab": {
          "base_uri": "https://localhost:8080/"
        },
        "id": "-WB7HfkSNZRv",
        "outputId": "3c57860d-f5e4-4762-9970-ef1ae26b4f15"
      },
      "outputs": [
        {
          "output_type": "stream",
          "name": "stdout",
          "text": [
            "\r[*********************100%***********************]  1 of 1 completed\n"
          ]
        }
      ],
      "source": [
        "import yfinance as yf\n",
        "df=yf.download('BTC-USD')"
      ]
    },
    {
      "cell_type": "code",
      "source": [
        "df"
      ],
      "metadata": {
        "colab": {
          "base_uri": "https://localhost:8080/",
          "height": 455
        },
        "id": "_4Kxci4tN3-x",
        "outputId": "69237e7a-9d77-4fc8-b429-58fcbfd31926"
      },
      "execution_count": 4,
      "outputs": [
        {
          "output_type": "execute_result",
          "data": {
            "text/plain": [
              "                    Open          High           Low         Close  \\\n",
              "Date                                                                 \n",
              "2014-09-17    465.864014    468.174011    452.421997    457.334015   \n",
              "2014-09-18    456.859985    456.859985    413.104004    424.440002   \n",
              "2014-09-19    424.102997    427.834991    384.532013    394.795990   \n",
              "2014-09-20    394.673004    423.295990    389.882996    408.903992   \n",
              "2014-09-21    408.084991    412.425995    393.181000    398.821014   \n",
              "...                  ...           ...           ...           ...   \n",
              "2022-03-23  42364.378906  42893.507812  41877.507812  42892.957031   \n",
              "2022-03-24  42886.652344  44131.855469  42726.164062  43960.933594   \n",
              "2022-03-25  43964.546875  44999.492188  43706.285156  44348.730469   \n",
              "2022-03-26  44349.859375  44735.996094  44166.273438  44500.828125   \n",
              "2022-03-27  44505.839844  44859.601562  44505.839844  44822.914062   \n",
              "\n",
              "               Adj Close       Volume  \n",
              "Date                                   \n",
              "2014-09-17    457.334015     21056800  \n",
              "2014-09-18    424.440002     34483200  \n",
              "2014-09-19    394.795990     37919700  \n",
              "2014-09-20    408.903992     36863600  \n",
              "2014-09-21    398.821014     26580100  \n",
              "...                  ...          ...  \n",
              "2022-03-23  42892.957031  25242943069  \n",
              "2022-03-24  43960.933594  31042992291  \n",
              "2022-03-25  44348.730469  30574413034  \n",
              "2022-03-26  44500.828125  16950455995  \n",
              "2022-03-27  44822.914062  17691287552  \n",
              "\n",
              "[2749 rows x 6 columns]"
            ],
            "text/html": [
              "\n",
              "  <div id=\"df-fdb193da-490c-43f4-b1d7-876d18e4063e\">\n",
              "    <div class=\"colab-df-container\">\n",
              "      <div>\n",
              "<style scoped>\n",
              "    .dataframe tbody tr th:only-of-type {\n",
              "        vertical-align: middle;\n",
              "    }\n",
              "\n",
              "    .dataframe tbody tr th {\n",
              "        vertical-align: top;\n",
              "    }\n",
              "\n",
              "    .dataframe thead th {\n",
              "        text-align: right;\n",
              "    }\n",
              "</style>\n",
              "<table border=\"1\" class=\"dataframe\">\n",
              "  <thead>\n",
              "    <tr style=\"text-align: right;\">\n",
              "      <th></th>\n",
              "      <th>Open</th>\n",
              "      <th>High</th>\n",
              "      <th>Low</th>\n",
              "      <th>Close</th>\n",
              "      <th>Adj Close</th>\n",
              "      <th>Volume</th>\n",
              "    </tr>\n",
              "    <tr>\n",
              "      <th>Date</th>\n",
              "      <th></th>\n",
              "      <th></th>\n",
              "      <th></th>\n",
              "      <th></th>\n",
              "      <th></th>\n",
              "      <th></th>\n",
              "    </tr>\n",
              "  </thead>\n",
              "  <tbody>\n",
              "    <tr>\n",
              "      <th>2014-09-17</th>\n",
              "      <td>465.864014</td>\n",
              "      <td>468.174011</td>\n",
              "      <td>452.421997</td>\n",
              "      <td>457.334015</td>\n",
              "      <td>457.334015</td>\n",
              "      <td>21056800</td>\n",
              "    </tr>\n",
              "    <tr>\n",
              "      <th>2014-09-18</th>\n",
              "      <td>456.859985</td>\n",
              "      <td>456.859985</td>\n",
              "      <td>413.104004</td>\n",
              "      <td>424.440002</td>\n",
              "      <td>424.440002</td>\n",
              "      <td>34483200</td>\n",
              "    </tr>\n",
              "    <tr>\n",
              "      <th>2014-09-19</th>\n",
              "      <td>424.102997</td>\n",
              "      <td>427.834991</td>\n",
              "      <td>384.532013</td>\n",
              "      <td>394.795990</td>\n",
              "      <td>394.795990</td>\n",
              "      <td>37919700</td>\n",
              "    </tr>\n",
              "    <tr>\n",
              "      <th>2014-09-20</th>\n",
              "      <td>394.673004</td>\n",
              "      <td>423.295990</td>\n",
              "      <td>389.882996</td>\n",
              "      <td>408.903992</td>\n",
              "      <td>408.903992</td>\n",
              "      <td>36863600</td>\n",
              "    </tr>\n",
              "    <tr>\n",
              "      <th>2014-09-21</th>\n",
              "      <td>408.084991</td>\n",
              "      <td>412.425995</td>\n",
              "      <td>393.181000</td>\n",
              "      <td>398.821014</td>\n",
              "      <td>398.821014</td>\n",
              "      <td>26580100</td>\n",
              "    </tr>\n",
              "    <tr>\n",
              "      <th>...</th>\n",
              "      <td>...</td>\n",
              "      <td>...</td>\n",
              "      <td>...</td>\n",
              "      <td>...</td>\n",
              "      <td>...</td>\n",
              "      <td>...</td>\n",
              "    </tr>\n",
              "    <tr>\n",
              "      <th>2022-03-23</th>\n",
              "      <td>42364.378906</td>\n",
              "      <td>42893.507812</td>\n",
              "      <td>41877.507812</td>\n",
              "      <td>42892.957031</td>\n",
              "      <td>42892.957031</td>\n",
              "      <td>25242943069</td>\n",
              "    </tr>\n",
              "    <tr>\n",
              "      <th>2022-03-24</th>\n",
              "      <td>42886.652344</td>\n",
              "      <td>44131.855469</td>\n",
              "      <td>42726.164062</td>\n",
              "      <td>43960.933594</td>\n",
              "      <td>43960.933594</td>\n",
              "      <td>31042992291</td>\n",
              "    </tr>\n",
              "    <tr>\n",
              "      <th>2022-03-25</th>\n",
              "      <td>43964.546875</td>\n",
              "      <td>44999.492188</td>\n",
              "      <td>43706.285156</td>\n",
              "      <td>44348.730469</td>\n",
              "      <td>44348.730469</td>\n",
              "      <td>30574413034</td>\n",
              "    </tr>\n",
              "    <tr>\n",
              "      <th>2022-03-26</th>\n",
              "      <td>44349.859375</td>\n",
              "      <td>44735.996094</td>\n",
              "      <td>44166.273438</td>\n",
              "      <td>44500.828125</td>\n",
              "      <td>44500.828125</td>\n",
              "      <td>16950455995</td>\n",
              "    </tr>\n",
              "    <tr>\n",
              "      <th>2022-03-27</th>\n",
              "      <td>44505.839844</td>\n",
              "      <td>44859.601562</td>\n",
              "      <td>44505.839844</td>\n",
              "      <td>44822.914062</td>\n",
              "      <td>44822.914062</td>\n",
              "      <td>17691287552</td>\n",
              "    </tr>\n",
              "  </tbody>\n",
              "</table>\n",
              "<p>2749 rows × 6 columns</p>\n",
              "</div>\n",
              "      <button class=\"colab-df-convert\" onclick=\"convertToInteractive('df-fdb193da-490c-43f4-b1d7-876d18e4063e')\"\n",
              "              title=\"Convert this dataframe to an interactive table.\"\n",
              "              style=\"display:none;\">\n",
              "        \n",
              "  <svg xmlns=\"http://www.w3.org/2000/svg\" height=\"24px\"viewBox=\"0 0 24 24\"\n",
              "       width=\"24px\">\n",
              "    <path d=\"M0 0h24v24H0V0z\" fill=\"none\"/>\n",
              "    <path d=\"M18.56 5.44l.94 2.06.94-2.06 2.06-.94-2.06-.94-.94-2.06-.94 2.06-2.06.94zm-11 1L8.5 8.5l.94-2.06 2.06-.94-2.06-.94L8.5 2.5l-.94 2.06-2.06.94zm10 10l.94 2.06.94-2.06 2.06-.94-2.06-.94-.94-2.06-.94 2.06-2.06.94z\"/><path d=\"M17.41 7.96l-1.37-1.37c-.4-.4-.92-.59-1.43-.59-.52 0-1.04.2-1.43.59L10.3 9.45l-7.72 7.72c-.78.78-.78 2.05 0 2.83L4 21.41c.39.39.9.59 1.41.59.51 0 1.02-.2 1.41-.59l7.78-7.78 2.81-2.81c.8-.78.8-2.07 0-2.86zM5.41 20L4 18.59l7.72-7.72 1.47 1.35L5.41 20z\"/>\n",
              "  </svg>\n",
              "      </button>\n",
              "      \n",
              "  <style>\n",
              "    .colab-df-container {\n",
              "      display:flex;\n",
              "      flex-wrap:wrap;\n",
              "      gap: 12px;\n",
              "    }\n",
              "\n",
              "    .colab-df-convert {\n",
              "      background-color: #E8F0FE;\n",
              "      border: none;\n",
              "      border-radius: 50%;\n",
              "      cursor: pointer;\n",
              "      display: none;\n",
              "      fill: #1967D2;\n",
              "      height: 32px;\n",
              "      padding: 0 0 0 0;\n",
              "      width: 32px;\n",
              "    }\n",
              "\n",
              "    .colab-df-convert:hover {\n",
              "      background-color: #E2EBFA;\n",
              "      box-shadow: 0px 1px 2px rgba(60, 64, 67, 0.3), 0px 1px 3px 1px rgba(60, 64, 67, 0.15);\n",
              "      fill: #174EA6;\n",
              "    }\n",
              "\n",
              "    [theme=dark] .colab-df-convert {\n",
              "      background-color: #3B4455;\n",
              "      fill: #D2E3FC;\n",
              "    }\n",
              "\n",
              "    [theme=dark] .colab-df-convert:hover {\n",
              "      background-color: #434B5C;\n",
              "      box-shadow: 0px 1px 3px 1px rgba(0, 0, 0, 0.15);\n",
              "      filter: drop-shadow(0px 1px 2px rgba(0, 0, 0, 0.3));\n",
              "      fill: #FFFFFF;\n",
              "    }\n",
              "  </style>\n",
              "\n",
              "      <script>\n",
              "        const buttonEl =\n",
              "          document.querySelector('#df-fdb193da-490c-43f4-b1d7-876d18e4063e button.colab-df-convert');\n",
              "        buttonEl.style.display =\n",
              "          google.colab.kernel.accessAllowed ? 'block' : 'none';\n",
              "\n",
              "        async function convertToInteractive(key) {\n",
              "          const element = document.querySelector('#df-fdb193da-490c-43f4-b1d7-876d18e4063e');\n",
              "          const dataTable =\n",
              "            await google.colab.kernel.invokeFunction('convertToInteractive',\n",
              "                                                     [key], {});\n",
              "          if (!dataTable) return;\n",
              "\n",
              "          const docLinkHtml = 'Like what you see? Visit the ' +\n",
              "            '<a target=\"_blank\" href=https://colab.research.google.com/notebooks/data_table.ipynb>data table notebook</a>'\n",
              "            + ' to learn more about interactive tables.';\n",
              "          element.innerHTML = '';\n",
              "          dataTable['output_type'] = 'display_data';\n",
              "          await google.colab.output.renderOutput(dataTable, element);\n",
              "          const docLink = document.createElement('div');\n",
              "          docLink.innerHTML = docLinkHtml;\n",
              "          element.appendChild(docLink);\n",
              "        }\n",
              "      </script>\n",
              "    </div>\n",
              "  </div>\n",
              "  "
            ]
          },
          "metadata": {},
          "execution_count": 4
        }
      ]
    },
    {
      "cell_type": "code",
      "source": [
        "import numpy as np\n",
        "import pandas as pd\n",
        "import matplotlib.pyplot as plt\n",
        "import math\n",
        "from statsmodels.tsa.arima_model import ARIMA\n",
        "from sklearn.metrics import mean_squared_error,mean_absolute_error"
      ],
      "metadata": {
        "id": "DnnPZzFhN-S6"
      },
      "execution_count": 8,
      "outputs": []
    },
    {
      "cell_type": "code",
      "source": [
        "plt.plot(df.index,df['Adj Close'])\n",
        "plt.show()"
      ],
      "metadata": {
        "colab": {
          "base_uri": "https://localhost:8080/",
          "height": 267
        },
        "id": "xK4y1w0QOdHa",
        "outputId": "7c2ce152-2f5b-4002-db80-39f01ef091f5"
      },
      "execution_count": 9,
      "outputs": [
        {
          "output_type": "display_data",
          "data": {
            "text/plain": [
              "<Figure size 432x288 with 1 Axes>"
            ],
            "image/png": "[encoded data removed]"
          },
          "metadata": {
            "needs_background": "light"
          }
        }
      ]
    },
    {
      "cell_type": "code",
      "source": [
        "#train test split\n",
        "to_row=int(len(df)*0.9)\n",
        "training_data=list(df[0:to_row]['Adj Close'])\n",
        "testing_data=list(df[to_row:]['Adj Close'])\n"
      ],
      "metadata": {
        "id": "C9tAhy2DOmI9"
      },
      "execution_count": 10,
      "outputs": []
    },
    {
      "cell_type": "code",
      "source": [
        "testing_data"
      ],
      "metadata": {
        "colab": {
          "base_uri": "https://localhost:8080/"
        },
        "id": "DZgc4AkgOrhl",
        "outputId": "2b024067-7a0e-4e5a-9849-9a8a23b37d73"
      },
      "execution_count": 11,
      "outputs": [
        {
          "output_type": "execute_result",
          "data": {
            "text/plain": [
              "[32186.27734375,\n",
              " 34649.64453125,\n",
              " 34434.3359375,\n",
              " 35867.77734375,\n",
              " 35040.8359375,\n",
              " 33572.1171875,\n",
              " 33897.046875,\n",
              " 34668.546875,\n",
              " 35287.78125,\n",
              " 33746.00390625,\n",
              " 34235.1953125,\n",
              " 33855.328125,\n",
              " 32877.37109375,\n",
              " 33798.01171875,\n",
              " 33520.51953125,\n",
              " 34240.1875,\n",
              " 33155.84765625,\n",
              " 32702.025390625,\n",
              " 32822.34765625,\n",
              " 31780.73046875,\n",
              " 31421.5390625,\n",
              " 31533.068359375,\n",
              " 31796.810546875,\n",
              " 30817.83203125,\n",
              " 29807.34765625,\n",
              " 32110.693359375,\n",
              " 32313.10546875,\n",
              " 33581.55078125,\n",
              " 34292.4453125,\n",
              " 35350.1875,\n",
              " 37337.53515625,\n",
              " 39406.94140625,\n",
              " 39995.90625,\n",
              " 40008.421875,\n",
              " 42235.546875,\n",
              " 41626.1953125,\n",
              " 39974.89453125,\n",
              " 39201.9453125,\n",
              " 38152.98046875,\n",
              " 39747.50390625,\n",
              " 40869.5546875,\n",
              " 42816.5,\n",
              " 44555.80078125,\n",
              " 43798.1171875,\n",
              " 46365.40234375,\n",
              " 45585.03125,\n",
              " 45593.63671875,\n",
              " 44428.2890625,\n",
              " 47793.3203125,\n",
              " 47096.9453125,\n",
              " 47047.00390625,\n",
              " 46004.484375,\n",
              " 44695.359375,\n",
              " 44801.1875,\n",
              " 46717.578125,\n",
              " 49339.17578125,\n",
              " 48905.4921875,\n",
              " 49321.65234375,\n",
              " 49546.1484375,\n",
              " 47706.1171875,\n",
              " 48960.7890625,\n",
              " 46942.21875,\n",
              " 49058.66796875,\n",
              " 48902.40234375,\n",
              " 48829.83203125,\n",
              " 47054.984375,\n",
              " 47166.6875,\n",
              " 48847.02734375,\n",
              " 49327.72265625,\n",
              " 50025.375,\n",
              " 49944.625,\n",
              " 51753.41015625,\n",
              " 52633.53515625,\n",
              " 46811.12890625,\n",
              " 46091.390625,\n",
              " 46391.421875,\n",
              " 44883.91015625,\n",
              " 45201.45703125,\n",
              " 46063.26953125,\n",
              " 44963.07421875,\n",
              " 47092.4921875,\n",
              " 48176.34765625,\n",
              " 47783.359375,\n",
              " 47267.51953125,\n",
              " 48278.36328125,\n",
              " 47260.21875,\n",
              " 42843.80078125,\n",
              " 40693.67578125,\n",
              " 43574.5078125,\n",
              " 44895.09765625,\n",
              " 42839.75,\n",
              " 42716.59375,\n",
              " 43208.5390625,\n",
              " 42235.73046875,\n",
              " 41034.54296875,\n",
              " 41564.36328125,\n",
              " 43790.89453125,\n",
              " 48116.94140625,\n",
              " 47711.48828125,\n",
              " 48199.953125,\n",
              " 49112.90234375,\n",
              " 51514.8125,\n",
              " 55361.44921875,\n",
              " 53805.984375,\n",
              " 53967.84765625,\n",
              " 54968.22265625,\n",
              " 54771.578125,\n",
              " 57484.7890625,\n",
              " 56041.05859375,\n",
              " 57401.09765625,\n",
              " 57321.5234375,\n",
              " 61593.94921875,\n",
              " 60892.1796875,\n",
              " 61553.6171875,\n",
              " 62026.078125,\n",
              " 64261.9921875,\n",
              " 65992.8359375,\n",
              " 62210.171875,\n",
              " 60692.265625,\n",
              " 61393.6171875,\n",
              " 60930.8359375,\n",
              " 63039.82421875,\n",
              " 60363.79296875,\n",
              " 58482.38671875,\n",
              " 60622.13671875,\n",
              " 62227.96484375,\n",
              " 61888.83203125,\n",
              " 61318.95703125,\n",
              " 61004.40625,\n",
              " 63226.40234375,\n",
              " 62970.046875,\n",
              " 61452.23046875,\n",
              " 61125.67578125,\n",
              " 61527.48046875,\n",
              " 63326.98828125,\n",
              " 67566.828125,\n",
              " 66971.828125,\n",
              " 64995.23046875,\n",
              " 64949.9609375,\n",
              " 64155.94140625,\n",
              " 64469.52734375,\n",
              " 65466.83984375,\n",
              " 63557.87109375,\n",
              " 60161.24609375,\n",
              " 60368.01171875,\n",
              " 56942.13671875,\n",
              " 58119.578125,\n",
              " 59697.1953125,\n",
              " 58730.4765625,\n",
              " 56289.2890625,\n",
              " 57569.07421875,\n",
              " 56280.42578125,\n",
              " 57274.6796875,\n",
              " 53569.765625,\n",
              " 54815.078125,\n",
              " 57248.45703125,\n",
              " 57806.56640625,\n",
              " 57005.42578125,\n",
              " 57229.828125,\n",
              " 56477.81640625,\n",
              " 53598.24609375,\n",
              " 49200.703125,\n",
              " 49368.84765625,\n",
              " 50582.625,\n",
              " 50700.0859375,\n",
              " 50504.796875,\n",
              " 47672.12109375,\n",
              " 47243.3046875,\n",
              " 49362.5078125,\n",
              " 50098.3359375,\n",
              " 46737.48046875,\n",
              " 46612.6328125,\n",
              " 48896.72265625,\n",
              " 47665.42578125,\n",
              " 46202.14453125,\n",
              " 46848.77734375,\n",
              " 46707.015625,\n",
              " 46880.27734375,\n",
              " 48936.61328125,\n",
              " 48628.51171875,\n",
              " 50784.5390625,\n",
              " 50822.1953125,\n",
              " 50429.859375,\n",
              " 50809.515625,\n",
              " 50640.41796875,\n",
              " 47588.85546875,\n",
              " 46444.7109375,\n",
              " 47178.125,\n",
              " 46306.4453125,\n",
              " 47686.8125,\n",
              " 47345.21875,\n",
              " 46458.1171875,\n",
              " 45897.57421875,\n",
              " 43569.00390625,\n",
              " 43160.9296875,\n",
              " 41557.90234375,\n",
              " 41733.94140625,\n",
              " 41911.6015625,\n",
              " 41821.26171875,\n",
              " 42735.85546875,\n",
              " 43949.1015625,\n",
              " 42591.5703125,\n",
              " 43099.69921875,\n",
              " 43177.3984375,\n",
              " 43113.87890625,\n",
              " 42250.55078125,\n",
              " 42375.6328125,\n",
              " 41744.328125,\n",
              " 40680.41796875,\n",
              " 36457.31640625,\n",
              " 35030.25,\n",
              " 36276.8046875,\n",
              " 36654.328125,\n",
              " 36954.00390625,\n",
              " 36852.12109375,\n",
              " 37138.234375,\n",
              " 37784.33203125,\n",
              " 38138.1796875,\n",
              " 37917.6015625,\n",
              " 38483.125,\n",
              " 38743.2734375,\n",
              " 36952.984375,\n",
              " 37154.6015625,\n",
              " 41500.875,\n",
              " 41441.1640625,\n",
              " 42412.43359375,\n",
              " 43840.28515625,\n",
              " 44118.4453125,\n",
              " 44338.796875,\n",
              " 43565.11328125,\n",
              " 42407.9375,\n",
              " 42244.46875,\n",
              " 42197.515625,\n",
              " 42586.91796875,\n",
              " 44575.203125,\n",
              " 43961.859375,\n",
              " 40538.01171875,\n",
              " 40030.9765625,\n",
              " 40122.15625,\n",
              " 38431.37890625,\n",
              " 37075.28125,\n",
              " 38286.02734375,\n",
              " 37296.5703125,\n",
              " 38332.609375,\n",
              " 39214.21875,\n",
              " 39105.1484375,\n",
              " 37709.78515625,\n",
              " 43193.234375,\n",
              " 44354.63671875,\n",
              " 43924.1171875,\n",
              " 42451.7890625,\n",
              " 39137.60546875,\n",
              " 39400.5859375,\n",
              " 38419.984375,\n",
              " 38062.0390625,\n",
              " 38737.26953125,\n",
              " 41982.92578125,\n",
              " 39437.4609375,\n",
              " 38794.97265625,\n",
              " 38904.01171875,\n",
              " 37849.6640625,\n",
              " 39666.75390625,\n",
              " 39338.78515625,\n",
              " 41143.9296875,\n",
              " 40951.37890625,\n",
              " 41801.15625,\n",
              " 42190.65234375,\n",
              " 41247.82421875,\n",
              " 41077.99609375,\n",
              " 42358.80859375,\n",
              " 42892.95703125,\n",
              " 43960.93359375,\n",
              " 44348.73046875,\n",
              " 44500.828125,\n",
              " 44822.9140625]"
            ]
          },
          "metadata": {},
          "execution_count": 11
        }
      ]
    },
    {
      "cell_type": "code",
      "source": [
        "#split data into traing and testing ploting above code graph\n",
        "plt.figure(figsize=(10,6))\n",
        "plt.grid(True)\n",
        "plt.xlabel('dates')\n",
        "plt.ylabel('closing price')\n",
        "plt.plot(df[0:to_row]['Adj Close'],'green',label='train data')\n",
        "plt.plot(df[to_row:]['Adj Close'],'blue',label='test data')\n",
        "plt.legend"
      ],
      "metadata": {
        "colab": {
          "base_uri": "https://localhost:8080/",
          "height": 406
        },
        "id": "Idpabo19O0P6",
        "outputId": "2b43b936-573d-4b49-b7ca-af1ba2dc8935"
      },
      "execution_count": 12,
      "outputs": [
        {
          "output_type": "execute_result",
          "data": {
            "text/plain": [
              "<function matplotlib.pyplot.legend>"
            ]
          },
          "metadata": {},
          "execution_count": 12
        },
        {
          "output_type": "display_data",
          "data": {
            "text/plain": [
              "<Figure size 720x432 with 1 Axes>"
            ],
            "image/png": "[encoded data removed]"
          },
          "metadata": {
            "needs_background": "light"
          }
        }
      ]
    },
    {
      "cell_type": "code",
      "source": [
        "model_prediction=[]\n",
        "n_test_obser=len(testing_data)"
      ],
      "metadata": {
        "id": "jF-sDaJwO5nb"
      },
      "execution_count": 13,
      "outputs": []
    },
    {
      "cell_type": "code",
      "source": [
        "for i in range(n_test_obser):\n",
        "    model=ARIMA(training_data,order=(4,1,0))\n",
        "    model_fit=model.fit()\n",
        "    output=model_fit.forecast()\n",
        "    print(output)        #for checking o/p and converting this from array to list we use this code\n",
        "    break"
      ],
      "metadata": {
        "colab": {
          "base_uri": "https://localhost:8080/"
        },
        "id": "T8Fsp2RUO79w",
        "outputId": "4ccff97e-76c2-403c-fa31-576f0c7e9983"
      },
      "execution_count": 14,
      "outputs": [
        {
          "output_type": "stream",
          "name": "stdout",
          "text": [
            "(array([32006.67762962]), array([637.58969751]), array([[30757.0247856 , 33256.33047365]]))\n"
          ]
        }
      ]
    },
    {
      "cell_type": "code",
      "source": [
        "output[0]"
      ],
      "metadata": {
        "colab": {
          "base_uri": "https://localhost:8080/"
        },
        "id": "odHQQNw7PBg5",
        "outputId": "b85ef5f6-ce0b-4c21-8156-f41a7964ea51"
      },
      "execution_count": 15,
      "outputs": [
        {
          "output_type": "execute_result",
          "data": {
            "text/plain": [
              "array([32006.67762962])"
            ]
          },
          "metadata": {},
          "execution_count": 15
        }
      ]
    },
    {
      "cell_type": "code",
      "source": [
        "list(output[0])[0]"
      ],
      "metadata": {
        "colab": {
          "base_uri": "https://localhost:8080/"
        },
        "id": "PymQ3sFcPMp-",
        "outputId": "dcee9cab-30c4-4873-ee29-292cf52d5c1c"
      },
      "execution_count": 16,
      "outputs": [
        {
          "output_type": "execute_result",
          "data": {
            "text/plain": [
              "32006.677629622533"
            ]
          },
          "metadata": {},
          "execution_count": 16
        }
      ]
    },
    {
      "cell_type": "code",
      "source": [
        "for i in range(n_test_obser):\n",
        "    model=ARIMA(training_data,order=(4,1,0))\n",
        "    model_fit=model.fit()\n",
        "    output=model_fit.forecast()\n",
        "    yhat=list(output)[0]\n",
        "    model_prediction.append(yhat)\n",
        "    actual_test_value=testing_data[i]\n",
        "    training_data.append(actual_test_value)"
      ],
      "metadata": {
        "id": "aXsI5E7fPXr3"
      },
      "execution_count": 17,
      "outputs": []
    },
    {
      "cell_type": "code",
      "source": [
        "model_fit.summary()"
      ],
      "metadata": {
        "colab": {
          "base_uri": "https://localhost:8080/",
          "height": 416
        },
        "id": "X86px-mEPjS6",
        "outputId": "d7c4a3c3-09cb-4ba1-fd2a-c97db39a587b"
      },
      "execution_count": 18,
      "outputs": [
        {
          "output_type": "execute_result",
          "data": {
            "text/plain": [
              "<class 'statsmodels.iolib.summary.Summary'>\n",
              "\"\"\"\n",
              "                             ARIMA Model Results                              \n",
              "==============================================================================\n",
              "Dep. Variable:                    D.y   No. Observations:                 2747\n",
              "Model:                 ARIMA(4, 1, 0)   Log Likelihood              -22218.989\n",
              "Method:                       css-mle   S.D. of innovations            788.014\n",
              "Date:                Sun, 27 Mar 2022   AIC                          44449.978\n",
              "Time:                        02:39:46   BIC                          44485.488\n",
              "Sample:                             1   HQIC                         44462.808\n",
              "                                                                              \n",
              "==============================================================================\n",
              "                 coef    std err          z      P>|z|      [0.025      0.975]\n",
              "------------------------------------------------------------------------------\n",
              "const         16.0333     15.306      1.048      0.295     -13.966      46.032\n",
              "ar.L1.D.y     -0.0239      0.019     -1.256      0.209      -0.061       0.013\n",
              "ar.L2.D.y     -0.0045      0.019     -0.238      0.812      -0.042       0.033\n",
              "ar.L3.D.y      0.0094      0.019      0.491      0.624      -0.028       0.047\n",
              "ar.L4.D.y      0.0369      0.019      1.935      0.053      -0.000       0.074\n",
              "                                    Roots                                    \n",
              "=============================================================================\n",
              "                  Real          Imaginary           Modulus         Frequency\n",
              "-----------------------------------------------------------------------------\n",
              "AR.1            2.2639           -0.0000j            2.2639           -0.0000\n",
              "AR.2           -0.0938           -2.2651j            2.2671           -0.2566\n",
              "AR.3           -0.0938           +2.2651j            2.2671            0.2566\n",
              "AR.4           -2.3301           -0.0000j            2.3301           -0.5000\n",
              "-----------------------------------------------------------------------------\n",
              "\"\"\""
            ],
            "text/html": [
              "<table class=\"simpletable\">\n",
              "<caption>ARIMA Model Results</caption>\n",
              "<tr>\n",
              "  <th>Dep. Variable:</th>        <td>D.y</td>       <th>  No. Observations:  </th>    <td>2747</td>   \n",
              "</tr>\n",
              "<tr>\n",
              "  <th>Model:</th>          <td>ARIMA(4, 1, 0)</td>  <th>  Log Likelihood     </th> <td>-22218.989</td>\n",
              "</tr>\n",
              "<tr>\n",
              "  <th>Method:</th>             <td>css-mle</td>     <th>  S.D. of innovations</th>   <td>788.014</td> \n",
              "</tr>\n",
              "<tr>\n",
              "  <th>Date:</th>          <td>Sun, 27 Mar 2022</td> <th>  AIC                </th>  <td>44449.978</td>\n",
              "</tr>\n",
              "<tr>\n",
              "  <th>Time:</th>              <td>02:39:46</td>     <th>  BIC                </th>  <td>44485.488</td>\n",
              "</tr>\n",
              "<tr>\n",
              "  <th>Sample:</th>                <td>1</td>        <th>  HQIC               </th>  <td>44462.808</td>\n",
              "</tr>\n",
              "<tr>\n",
              "  <th></th>                       <td> </td>        <th>                     </th>      <td> </td>    \n",
              "</tr>\n",
              "</table>\n",
              "<table class=\"simpletable\">\n",
              "<tr>\n",
              "      <td></td>         <th>coef</th>     <th>std err</th>      <th>z</th>      <th>P>|z|</th>  <th>[0.025</th>    <th>0.975]</th>  \n",
              "</tr>\n",
              "<tr>\n",
              "  <th>const</th>     <td>   16.0333</td> <td>   15.306</td> <td>    1.048</td> <td> 0.295</td> <td>  -13.966</td> <td>   46.032</td>\n",
              "</tr>\n",
              "<tr>\n",
              "  <th>ar.L1.D.y</th> <td>   -0.0239</td> <td>    0.019</td> <td>   -1.256</td> <td> 0.209</td> <td>   -0.061</td> <td>    0.013</td>\n",
              "</tr>\n",
              "<tr>\n",
              "  <th>ar.L2.D.y</th> <td>   -0.0045</td> <td>    0.019</td> <td>   -0.238</td> <td> 0.812</td> <td>   -0.042</td> <td>    0.033</td>\n",
              "</tr>\n",
              "<tr>\n",
              "  <th>ar.L3.D.y</th> <td>    0.0094</td> <td>    0.019</td> <td>    0.491</td> <td> 0.624</td> <td>   -0.028</td> <td>    0.047</td>\n",
              "</tr>\n",
              "<tr>\n",
              "  <th>ar.L4.D.y</th> <td>    0.0369</td> <td>    0.019</td> <td>    1.935</td> <td> 0.053</td> <td>   -0.000</td> <td>    0.074</td>\n",
              "</tr>\n",
              "</table>\n",
              "<table class=\"simpletable\">\n",
              "<caption>Roots</caption>\n",
              "<tr>\n",
              "    <td></td>   <th>            Real</th>  <th>         Imaginary</th> <th>         Modulus</th>  <th>        Frequency</th>\n",
              "</tr>\n",
              "<tr>\n",
              "  <th>AR.1</th> <td>           2.2639</td> <td>          -0.0000j</td> <td>           2.2639</td> <td>          -0.0000</td>\n",
              "</tr>\n",
              "<tr>\n",
              "  <th>AR.2</th> <td>          -0.0938</td> <td>          -2.2651j</td> <td>           2.2671</td> <td>          -0.2566</td>\n",
              "</tr>\n",
              "<tr>\n",
              "  <th>AR.3</th> <td>          -0.0938</td> <td>          +2.2651j</td> <td>           2.2671</td> <td>           0.2566</td>\n",
              "</tr>\n",
              "<tr>\n",
              "  <th>AR.4</th> <td>          -2.3301</td> <td>          -0.0000j</td> <td>           2.3301</td> <td>          -0.5000</td>\n",
              "</tr>\n",
              "</table>"
            ]
          },
          "metadata": {},
          "execution_count": 18
        }
      ]
    },
    {
      "cell_type": "code",
      "source": [
        "len(model_prediction)"
      ],
      "metadata": {
        "colab": {
          "base_uri": "https://localhost:8080/"
        },
        "id": "VSPd_ohWPxtf",
        "outputId": "5215a4ed-10d9-408a-9784-bb11babcfcd1"
      },
      "execution_count": 19,
      "outputs": [
        {
          "output_type": "execute_result",
          "data": {
            "text/plain": [
              "275"
            ]
          },
          "metadata": {},
          "execution_count": 19
        }
      ]
    },
    {
      "cell_type": "code",
      "source": [
        "len(testing_data)"
      ],
      "metadata": {
        "colab": {
          "base_uri": "https://localhost:8080/"
        },
        "id": "pnVkCIE4P0Lx",
        "outputId": "983ae089-f1cd-40ff-e964-0c2cf0a0728a"
      },
      "execution_count": 20,
      "outputs": [
        {
          "output_type": "execute_result",
          "data": {
            "text/plain": [
              "275"
            ]
          },
          "metadata": {},
          "execution_count": 20
        }
      ]
    },
    {
      "cell_type": "code",
      "source": [
        "plt.figure(figsize=(15,9))\n",
        "plt.grid(True)\n",
        "\n",
        "date_range=df[to_row:].index\n",
        "plt.plot(date_range,model_prediction,color='blue',marker='o',linestyle='dashed',label='BTC predicted price')\n",
        "plt.plot(date_range,testing_data,color='red',marker='o',label='BTC Actual price')\n",
        "\n",
        "plt.title('Bitcoin price prediction')\n",
        "plt.xlabel('Date')\n",
        "plt.ylabel('Price')\n",
        "plt.legend()\n",
        "plt.show()"
      ],
      "metadata": {
        "colab": {
          "base_uri": "https://localhost:8080/",
          "height": 567
        },
        "id": "ymR5fpZKP45t",
        "outputId": "1532b232-bd5a-40b4-8b53-98eb8032d2c2"
      },
      "execution_count": 21,
      "outputs": [
        {
          "output_type": "display_data",
          "data": {
            "text/plain": [
              "<Figure size 1080x648 with 1 Axes>"
            ],
            "image/png": "[encoded data removed]"
          },
          "metadata": {
            "needs_background": "light"
          }
        }
      ]
    },
    {
      "cell_type": "code",
      "source": [
        "#report performance\n",
        "mape=np.mean(np.abs(np.array(model_prediction)-np.array(testing_data))/np.abs(testing_data))\n",
        "print('MAPE:'+str(mape)) #mean absolute % error\n",
        "#around 3.8% of mape(mean absolute % error)implies the model is about 96.2% accurate in predicting the test set observation"
      ],
      "metadata": {
        "colab": {
          "base_uri": "https://localhost:8080/"
        },
        "id": "M2fpK1r0QA7U",
        "outputId": "c487aecd-8ce2-4546-e478-26cc33da7854"
      },
      "execution_count": 22,
      "outputs": [
        {
          "output_type": "stream",
          "name": "stdout",
          "text": [
            "MAPE:0.21762143570847303\n"
          ]
        }
      ]
    }
  ]
}